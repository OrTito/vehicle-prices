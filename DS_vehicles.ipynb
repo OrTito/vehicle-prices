{
  "nbformat": 4,
  "nbformat_minor": 0,
  "metadata": {
    "colab": {
      "name": "DS_vehicles.ipynb",
      "provenance": [],
      "collapsed_sections": [],
      "include_colab_link": true
    },
    "kernelspec": {
      "display_name": "Python 3",
      "name": "python3"
    },
    "language_info": {
      "name": "python"
    }
  },
  "cells": [
    {
      "cell_type": "markdown",
      "metadata": {
        "id": "view-in-github",
        "colab_type": "text"
      },
      "source": [
        "<a href=\"https://colab.research.google.com/github/OrTito/vehicle-prices/blob/main/DS_vehicles.ipynb\" target=\"_parent\"><img src=\"https://colab.research.google.com/assets/colab-badge.svg\" alt=\"Open In Colab\"/></a>"
      ]
    },
    {
      "cell_type": "code",
      "metadata": {
        "id": "AtuUiuMESbEe"
      },
      "source": [
        "import pandas as pd\n",
        "import matplotlib.pyplot as plt\n",
        "import numpy as np\n",
        "import seaborn as sn\n",
        "\n",
        "data = pd.read_csv('train-data.csv')\n",
        "data = data.rename(columns={'Name': 'Company'})\n",
        "data = data.drop(columns=['Unnamed: 0'])\n",
        "data.Company = data.Company.str.split(' ').str[0]\n",
        "data['Mileage'] = data['Mileage'].str.strip(' kmpl km/kg').astype(float)\n",
        "data['Engine'] = data['Engine'].str.strip(' CC').astype(float)\n",
        "data['New_Price'] = data['New_Price'].str.strip(' Cr Lakh').astype(float)\n",
        "data['Power'] = data['Power'].str.strip(' null bhp')\n",
        "data['Power'] = pd.to_numeric(data['Power'])\n",
        "data\n"
      ],
      "execution_count": null,
      "outputs": []
    },
    {
      "cell_type": "code",
      "metadata": {
        "id": "I_f35W-53QN6"
      },
      "source": [
        "## converting non-numeric to numeric\n",
        "\n",
        "from sklearn import preprocessing\n",
        "\n",
        "le_Transmission = preprocessing.LabelEncoder()\n",
        "data.Transmission = le_Transmission.fit_transform(data.Transmission)\n",
        "keys_Transmission = le_Transmission.classes_\n",
        "values_Transmission = le_Transmission.transform(le_Transmission.classes_)\n",
        "dictionary_Transmission = dict(zip(keys_Transmission, values_Transmission))\n",
        "print(dictionary_Transmission)\n",
        "\n",
        "le_Location = preprocessing.LabelEncoder()\n",
        "data.Location = le_Location.fit_transform(data.Location)\n",
        "keys_Location = le_Location.classes_\n",
        "values_Location = le_Location.transform(le_Location.classes_)\n",
        "dictionary_Location = dict(zip(keys_Location, values_Location))\n",
        "print(dictionary_Location)\n",
        "\n",
        "le_Fuel_Type = preprocessing.LabelEncoder()\n",
        "data.Fuel_Type = le_Fuel_Type.fit_transform(data.Fuel_Type)\n",
        "keys_Fuel_Type = le_Fuel_Type.classes_\n",
        "values_Fuel_Type = le_Fuel_Type.transform(le_Fuel_Type.classes_)\n",
        "dictionary_Fuel_Type = dict(zip(keys_Fuel_Type, values_Fuel_Type))\n",
        "print(dictionary_Fuel_Type)\n",
        "\n",
        "le_Owner_Type = preprocessing.LabelEncoder()\n",
        "data.Owner_Type = le_Owner_Type.fit_transform(data.Owner_Type)\n",
        "keys_Owner_Type = le_Owner_Type.classes_\n",
        "values_Owner_Type = le_Owner_Type.transform(le_Owner_Type.classes_)\n",
        "dictionary_Owner_Type = dict(zip(keys_Owner_Type, values_Owner_Type))\n",
        "print(dictionary_Owner_Type)\n",
        "\n",
        "le_Company = preprocessing.LabelEncoder()\n",
        "data.Company = le_Company.fit_transform(data.Company)\n",
        "keys_Company = le_Company.classes_\n",
        "values_Company = le_Company.transform(le_Company.classes_)\n",
        "dictionary_Company = dict(zip(keys_Company, values_Company))\n",
        "print(dictionary_Company)"
      ],
      "execution_count": null,
      "outputs": []
    },
    {
      "cell_type": "code",
      "metadata": {
        "id": "hxo0qHk9tPAM"
      },
      "source": [
        "## Removing outliers\n",
        "\n",
        "data.Kilometers_Driven = data.Kilometers_Driven[data.Kilometers_Driven < 150000]\n",
        "data.Mileage = data.Mileage[data.Mileage > 5]\n",
        "data.Engine = data.Engine[data.Engine < 3400]\n",
        "data.Power = data.Power[data.Power < 275]\n",
        "data.Seats = data.Seats[data.Seats >= 2]"
      ],
      "execution_count": null,
      "outputs": []
    },
    {
      "cell_type": "code",
      "metadata": {
        "id": "bdlMh27IXZaT"
      },
      "source": [
        "## Dropping 'New_Price' and filling NaN values\n",
        "\n",
        "data = data.drop(columns=['New_Price'])\n",
        "data.Kilometers_Driven = data.Kilometers_Driven.fillna(data.Kilometers_Driven.median())\n",
        "data.Mileage = data.Mileage.fillna(data.Mileage.median())\n",
        "data.Engine = data.Engine.fillna(data.Engine.median())\n",
        "data.Power = data.Power.fillna(data.Power.median())\n",
        "data.Seats = data.Seats.fillna(data.Seats.median())\n",
        "data"
      ],
      "execution_count": null,
      "outputs": []
    },
    {
      "cell_type": "code",
      "metadata": {
        "id": "4EKDFkP6J9PA"
      },
      "source": [
        "## Company graphs\n",
        "\n",
        "P_Company = data['Company'].isnull().sum() / len(data['Company'])\n",
        "labels_Company = 'Missing values', 'Values'\n",
        "sizes_Company = [P_Company * 100, (1-P_Company) * 100]\n",
        "explode_Company = (0.25, 0)\n",
        "fig_Company, ax_Company = plt.subplots()\n",
        "ax_Company.pie(sizes_Company, explode=explode_Company, labels=labels_Company, autopct='%1.2f%%',\n",
        "        shadow=True, startangle=90)\n",
        "ax_Company.axis('equal')\n",
        "plt.show()\n",
        "\n",
        "data['Company'].value_counts().plot.pie()\n",
        "plt.show()\n",
        "\n",
        "plt.xlabel('Company Number')\n",
        "plt.ylabel('publications ')\n",
        "plt.title('Company')\n",
        "plt.hist(data['Company'],bins=(50))\n",
        "plt.show()\n",
        "\n",
        "print(data['Company'].value_counts())"
      ],
      "execution_count": null,
      "outputs": []
    },
    {
      "cell_type": "code",
      "metadata": {
        "id": "Y6c7gh9hJTzf"
      },
      "source": [
        "## Location graphs\n",
        "\n",
        "P_Location = data['Location'].isnull().sum() / len(data['Location'])\n",
        "labels_Location = 'Missing values', 'Values'\n",
        "sizes_Location = [P_Location * 100, (1-P_Location) * 100]\n",
        "explode_Location = (0.25, 0)\n",
        "fig_Location, ax_Location = plt.subplots()\n",
        "ax_Location.pie(sizes_Location, explode=explode_Location, labels=labels_Location, autopct='%1.2f%%',\n",
        "        shadow=True, startangle=90)\n",
        "ax_Location.axis('equal')\n",
        "plt.show()\n",
        "\n",
        "data['Location'].value_counts().plot.pie()\n",
        "plt.show()\n",
        "\n",
        "plt.xlabel('Location Number')\n",
        "plt.ylabel('publications ')\n",
        "plt.title('Location')\n",
        "plt.hist(data['Location'],bins=(50))\n",
        "plt.show()\n",
        "\n",
        "print(data['Location'].value_counts())"
      ],
      "execution_count": null,
      "outputs": []
    },
    {
      "cell_type": "code",
      "metadata": {
        "id": "H8kZVec_Ub2D"
      },
      "source": [
        "## Year graphs\n",
        "\n",
        "P_Year = data['Year'].isnull().sum() / len(data['Year'])\n",
        "labels_Year = 'Missing values', 'Values'\n",
        "sizes_Year = [P_Year * 100, (1-P_Year) * 100]\n",
        "explode_Year = (0.25, 0)\n",
        "fig_Year, ax_Year = plt.subplots()\n",
        "ax_Year.pie(sizes_Year, explode=explode_Year, labels=labels_Year, autopct='%1.2f%%',\n",
        "        shadow=True, startangle=90)\n",
        "ax_Year.axis('equal')\n",
        "plt.show()\n",
        "\n",
        "plt.xlabel('year')\n",
        "plt.ylabel('publications ')\n",
        "plt.title('Year')\n",
        "plt.hist(data['Year'],bins=(50))\n",
        "plt.show()\n",
        "\n",
        "pd.DataFrame(data['Year']).boxplot()\n",
        "plt.show()\n",
        "print(data['Year'].describe())"
      ],
      "execution_count": null,
      "outputs": []
    },
    {
      "cell_type": "code",
      "metadata": {
        "id": "PR7xrldgT6fd"
      },
      "source": [
        "## Kilometers_Driven graphs\n",
        "\n",
        "P_Kilometers_Driven = data['Kilometers_Driven'].isnull().sum() / len(data['Kilometers_Driven'])\n",
        "labels_Kilometers_Driven = 'Missing values', 'Values'\n",
        "sizes_Kilometers_Driven = [P_Kilometers_Driven * 100, (1-P_Kilometers_Driven) * 100]\n",
        "explode_Kilometers_Driven = (0.5, 0)\n",
        "fig_Kilometers_Driven, ax_Kilometers_Driven = plt.subplots()\n",
        "ax_Kilometers_Driven.pie(sizes_Kilometers_Driven, explode=explode_Kilometers_Driven, labels=labels_Kilometers_Driven, autopct='%1.2f%%',\n",
        "        shadow=True, startangle=90)\n",
        "ax_Kilometers_Driven.axis('equal')\n",
        "plt.show()\n",
        "\n",
        "plt.xlabel('Kilometers driven [km]')\n",
        "plt.ylabel('publications')\n",
        "plt.title('Kilometers_Driven')\n",
        "plt.hist(data['Kilometers_Driven'],bins=50)\n",
        "plt.show()\n",
        "\n",
        "pd.DataFrame(data['Kilometers_Driven']).boxplot()\n",
        "plt.show()\n",
        "print(data['Kilometers_Driven'].describe())"
      ],
      "execution_count": null,
      "outputs": []
    },
    {
      "cell_type": "code",
      "metadata": {
        "id": "_0klI8p7HULE"
      },
      "source": [
        "## Fuel_Type graphs\n",
        "\n",
        "P_Fuel_Type = data['Fuel_Type'].isnull().sum() / len(data['Fuel_Type'])\n",
        "labels_Fuel_Type = 'Missing values', 'Values'\n",
        "sizes_Fuel_Type = [P_Fuel_Type * 100, (1-P_Fuel_Type) * 100]\n",
        "explode_Fuel_Type = (0.25, 0)\n",
        "fig_Fuel_Type, ax_Fuel_Type = plt.subplots()\n",
        "ax_Fuel_Type.pie(sizes_Fuel_Type, explode=explode_Fuel_Type, labels=labels_Fuel_Type, autopct='%1.2f%%',\n",
        "        shadow=True, startangle=90)\n",
        "ax_Fuel_Type.axis('equal')\n",
        "plt.show()\n",
        "\n",
        "data['Fuel_Type'].value_counts().plot.pie()\n",
        "plt.show()\n",
        "\n",
        "plt.xlabel('Fuel_Type Number')\n",
        "plt.ylabel('publications ')\n",
        "plt.title('Fuel_Type')\n",
        "plt.hist(data['Fuel_Type'],bins=(50))\n",
        "plt.show()\n",
        "\n",
        "print(data['Fuel_Type'].value_counts())"
      ],
      "execution_count": null,
      "outputs": []
    },
    {
      "cell_type": "code",
      "metadata": {
        "id": "tSyYahTZD0VQ"
      },
      "source": [
        "## Transmission graphs\n",
        "\n",
        "P_Transmission = data['Transmission'].isnull().sum() / len(data['Transmission'])\n",
        "labels_Transmission = 'Missing values', 'Values'\n",
        "sizes_Transmission = [P_Transmission * 100, (1-P_Transmission) * 100]\n",
        "explode_Transmission = (0.25, 0)\n",
        "fig_Transmission, ax_Transmission = plt.subplots()\n",
        "ax_Transmission.pie(sizes_Transmission, explode=explode_Transmission, labels=labels_Transmission, autopct='%1.2f%%',\n",
        "        shadow=True, startangle=90)\n",
        "ax_Transmission.axis('equal')\n",
        "plt.show()\n",
        "\n",
        "data['Transmission'].value_counts().plot.pie()\n",
        "plt.show()\n",
        "\n",
        "plt.xlabel('Transmission Number')\n",
        "plt.ylabel('publications ')\n",
        "plt.title('Transmission')\n",
        "plt.hist(data['Transmission'],bins=(50))\n",
        "plt.show()\n",
        "\n",
        "print(data['Transmission'].value_counts())"
      ],
      "execution_count": null,
      "outputs": []
    },
    {
      "cell_type": "code",
      "metadata": {
        "id": "huRVhqYBLHAn"
      },
      "source": [
        "## Owner_Type graphs\n",
        "\n",
        "P_Owner_Type = data['Owner_Type'].isnull().sum() / len(data['Owner_Type'])\n",
        "labels_Owner_Type = 'Missing values', 'Values'\n",
        "sizes_Owner_Type = [P_Owner_Type * 100, (1-P_Owner_Type) * 100]\n",
        "explode_Owner_Type = (0.25, 0)\n",
        "fig_Owner_Type, ax_Owner_Type = plt.subplots()\n",
        "ax_Owner_Type.pie(sizes_Owner_Type, explode=explode_Owner_Type, labels=labels_Owner_Type, autopct='%1.2f%%',\n",
        "        shadow=True, startangle=90)\n",
        "ax_Owner_Type.axis('equal')\n",
        "plt.show()\n",
        "\n",
        "data['Owner_Type'].value_counts().plot.pie()\n",
        "plt.show()\n",
        "\n",
        "plt.xlabel('Owner_Type Number')\n",
        "plt.ylabel('publications ')\n",
        "plt.title('Owner_Type')\n",
        "plt.hist(data['Owner_Type'],bins=(50))\n",
        "plt.show()\n",
        "\n",
        "print(data['Owner_Type'].value_counts())"
      ],
      "execution_count": null,
      "outputs": []
    },
    {
      "cell_type": "code",
      "metadata": {
        "id": "FpMAswB0zTWj"
      },
      "source": [
        "## Mileage graphs\n",
        "\n",
        "P_Mileage = data['Mileage'].isnull().sum() / len(data['Mileage'])\n",
        "labels_Mileage = 'Missing values', 'Values'\n",
        "sizes_Mileage = [P_Mileage * 100, (1-P_Mileage) * 100]\n",
        "explode_Mileage = (0.25, 0)\n",
        "fig_Mileage, ax_Mileage = plt.subplots()\n",
        "ax_Mileage.pie(sizes_Mileage, explode=explode_Mileage, labels=labels_Mileage, autopct='%1.2f%%',\n",
        "        shadow=True, startangle=90)\n",
        "ax_Mileage.axis('equal')\n",
        "plt.show()\n",
        "\n",
        "plt.xlabel('mileage [kmpl]')\n",
        "plt.ylabel('publications')\n",
        "plt.title('Mileage')\n",
        "plt.hist(data['Mileage'],bins=50)\n",
        "plt.show()\n",
        "\n",
        "pd.DataFrame(data['Mileage']).boxplot()\n",
        "plt.show()\n",
        "print(data['Mileage'].describe())"
      ],
      "execution_count": null,
      "outputs": []
    },
    {
      "cell_type": "code",
      "metadata": {
        "id": "EFXM8F3LhREa"
      },
      "source": [
        "## Engine graphs\n",
        "\n",
        "P_Engine = data['Engine'].isnull().sum() / len(data['Engine'])\n",
        "labels_Engine = 'Missing values', 'Values'\n",
        "sizes_Engine = [P_Engine * 100, (1-P_Engine) * 100]\n",
        "explode_Engine = (0.5, 0)\n",
        "fig_Engine, ax_Engine = plt.subplots()\n",
        "ax_Engine.pie(sizes_Engine, explode=explode_Engine, labels=labels_Engine, autopct='%1.2f%%',\n",
        "        shadow=True, startangle=90)\n",
        "ax_Engine.axis('equal')\n",
        "plt.show()\n",
        "\n",
        "plt.xlabel('engine [CC]')\n",
        "plt.ylabel('publications')\n",
        "plt.title('Engine')\n",
        "plt.hist(data['Engine'],bins=50)\n",
        "plt.show()\n",
        "\n",
        "pd.DataFrame(data['Engine']).boxplot()\n",
        "plt.show()\n",
        "print(data['Engine'].describe())"
      ],
      "execution_count": null,
      "outputs": []
    },
    {
      "cell_type": "code",
      "metadata": {
        "id": "KwOnV1LC5xMA"
      },
      "source": [
        "## Power graphs\n",
        "\n",
        "P_Power = data['Power'].isnull().sum() / len(data['Power'])\n",
        "labels_Power = 'Missing values', 'Values'\n",
        "sizes_Power = [P_Power * 100, (1-P_Power) * 100]\n",
        "explode_Power = (0.5, 0)\n",
        "fig_Power, ax_Power = plt.subplots()\n",
        "ax_Power.pie(sizes_Power, explode=explode_Power, labels=labels_Power, autopct='%1.2f%%',\n",
        "        shadow=True, startangle=90)\n",
        "ax_Power.axis('equal')\n",
        "plt.show()\n",
        "\n",
        "plt.xlabel('power [bhp]')\n",
        "plt.ylabel('publications')\n",
        "plt.title('Power')\n",
        "plt.hist(data['Power'],bins=100)\n",
        "plt.show()\n",
        "\n",
        "pd.DataFrame(data['Power']).boxplot()\n",
        "plt.show()\n",
        "print(data['Power'].describe())"
      ],
      "execution_count": null,
      "outputs": []
    },
    {
      "cell_type": "code",
      "metadata": {
        "id": "V1-GmaLpUpTb"
      },
      "source": [
        "## Seats graphs\n",
        "\n",
        "P_Seats = data['Seats'].isnull().sum() / len(data['Seats'])\n",
        "labels_Seats = 'Missing values', 'Values'\n",
        "sizes_Seats = [P_Seats * 100, (1-P_Seats) * 100]\n",
        "explode_Seats = (0.5, 0)\n",
        "fig_Seats, ax_Seats = plt.subplots()\n",
        "ax_Seats.pie(sizes_Seats, explode=explode_Seats, labels=labels_Seats, autopct='%1.2f%%',\n",
        "        shadow=True, startangle=90)\n",
        "ax_Seats.axis('equal')\n",
        "plt.show()\n",
        "\n",
        "plt.xlabel('seats')\n",
        "plt.ylabel('publications')\n",
        "plt.title('Seats')\n",
        "plt.hist(data['Seats'],bins=(50))\n",
        "plt.show()\n",
        "\n",
        "pd.DataFrame(data['Seats']).boxplot()\n",
        "plt.show()\n",
        "print(data['Seats'].describe())"
      ],
      "execution_count": null,
      "outputs": []
    },
    {
      "cell_type": "code",
      "metadata": {
        "id": "WqF0lVo20fB6"
      },
      "source": [
        "## New_Price graphs\n",
        "\n",
        "P_New_Price = data['New_Price'].isnull().sum() / len(data['New_Price'])\n",
        "labels_New_Price = 'Missing values', 'Values'\n",
        "sizes_New_Price = [P_New_Price * 100, (1-P_New_Price) * 100]\n",
        "explode_New_Price = (0.25, 0)\n",
        "fig_New_Price, ax_New_Price = plt.subplots()\n",
        "ax_New_Price.pie(sizes_New_Price, explode=explode_New_Price, labels=labels_New_Price, autopct='%1.2f%%',\n",
        "        shadow=True, startangle=90)\n",
        "ax_New_Price.axis('equal')\n",
        "plt.show()\n",
        "\n",
        "plt.xlabel('new price [k$]')\n",
        "plt.ylabel('publications')\n",
        "plt.title('New_Price')\n",
        "plt.hist(data['New_Price'],bins=50)\n",
        "plt.show()\n",
        "\n",
        "pd.DataFrame(data['New_Price']).boxplot()\n",
        "plt.show()"
      ],
      "execution_count": null,
      "outputs": []
    },
    {
      "cell_type": "code",
      "metadata": {
        "id": "ns4_2RaZVTnE",
        "colab": {
          "base_uri": "https://localhost:8080/",
          "height": 932
        },
        "outputId": "2efb9cba-e9a1-4b47-84bc-e6774ce92d1f"
      },
      "source": [
        "## Price graphs\n",
        "\n",
        "P_Price = data['Price'].isnull().sum() / len(data['Price'])\n",
        "labels_Price = 'Missing values', 'Values'\n",
        "sizes_Price = [P_Price * 100, (1-P_Price) * 100]\n",
        "explode_Price = (0.25, 0)\n",
        "fig_Price, ax_Price = plt.subplots()\n",
        "ax_Price.pie(sizes_Price, explode=explode_Price, labels=labels_Price, autopct='%1.2f%%',\n",
        "        shadow=True, startangle=90)\n",
        "ax_Price.axis('equal')\n",
        "plt.show()\n",
        "\n",
        "plt.xlabel('price [k$]')\n",
        "plt.ylabel('publications')\n",
        "plt.title('Price')\n",
        "plt.hist(data['Price'],bins=50)\n",
        "plt.show()\n",
        "\n",
        "pd.DataFrame(data['Price']).boxplot()\n",
        "plt.show()\n",
        "print(data['Price'].describe())"
      ],
      "execution_count": null,
      "outputs": [
        {
          "output_type": "display_data",
          "data": {
            "image/png": "[encoded data removed]",
            "text/plain": [
              "<Figure size 432x288 with 1 Axes>"
            ]
          },
          "metadata": {
            "tags": []
          }
        },
        {
          "output_type": "display_data",
          "data": {
            "image/png": "[encoded data removed]",
            "text/plain": [
              "<Figure size 432x288 with 1 Axes>"
            ]
          },
          "metadata": {
            "tags": [],
            "needs_background": "light"
          }
        },
        {
          "output_type": "display_data",
          "data": {
            "image/png": "[encoded data removed]",
            "text/plain": [
              "<Figure size 432x288 with 1 Axes>"
            ]
          },
          "metadata": {
            "tags": [],
            "needs_background": "light"
          }
        },
        {
          "output_type": "stream",
          "text": [
            "count    6019.000000\n",
            "mean        9.479468\n",
            "std        11.187917\n",
            "min         0.440000\n",
            "25%         3.500000\n",
            "50%         5.640000\n",
            "75%         9.950000\n",
            "max       160.000000\n",
            "Name: Price, dtype: float64\n"
          ],
          "name": "stdout"
        }
      ]
    },
    {
      "cell_type": "code",
      "metadata": {
        "id": "UYXPVDXcpf5Y",
        "colab": {
          "base_uri": "https://localhost:8080/",
          "height": 341
        },
        "outputId": "7c5d0a01-fc06-4d97-b6ca-b068062b6f51"
      },
      "source": [
        "## Correlation Matrix\n",
        "\n",
        "Corr = data.corr()\n",
        "sn.heatmap(Corr, annot=True)\n",
        "plt.xticks(rotation=55)\n",
        "plt.show()"
      ],
      "execution_count": null,
      "outputs": [
        {
          "output_type": "display_data",
          "data": {
            "image/png": "[encoded data removed]",
            "text/plain": [
              "<Figure size 432x288 with 2 Axes>"
            ]
          },
          "metadata": {
            "tags": [],
            "needs_background": "light"
          }
        }
      ]
    },
    {
      "cell_type": "code",
      "metadata": {
        "colab": {
          "base_uri": "https://localhost:8080/"
        },
        "id": "GIlGunN3UBu8",
        "outputId": "5df7e38f-ac5f-46e0-8ed0-07e5aba3be90"
      },
      "source": [
        "## Splitting the data into train set and test set\n",
        "\n",
        "from sklearn.model_selection import train_test_split\n",
        "X, y = data.drop('Price', axis=1), data.Price\n",
        "train_test_ratio = 0.25\n",
        "X_train, X_test, y_train, y_test = train_test_split(X, y, test_size=train_test_ratio, random_state=2, shuffle=True)\n",
        "X_train.shape, y_train.shape, X_test.shape, y_test.shape"
      ],
      "execution_count": null,
      "outputs": [
        {
          "output_type": "execute_result",
          "data": {
            "text/plain": [
              "((4514, 11), (4514,), (1505, 11), (1505,))"
            ]
          },
          "metadata": {
            "tags": []
          },
          "execution_count": 55
        }
      ]
    },
    {
      "cell_type": "code",
      "metadata": {
        "colab": {
          "base_uri": "https://localhost:8080/"
        },
        "id": "XkaB9MT8kygg",
        "outputId": "b369ac4e-5857-40f1-d6d1-7bc3e7eb4a92"
      },
      "source": [
        "## LinearRegression\n",
        "\n",
        "from sklearn.linear_model import LinearRegression\n",
        "from sklearn.metrics import mean_absolute_error\n",
        "\n",
        "LR_Regressor = LinearRegression()\n",
        "LR_Regressor.fit(X_train, y_train)\n",
        "y_pred_LR_train = LR_Regressor.predict(X_train)\n",
        "y_pred_LR_test = LR_Regressor.predict(X_test)\n",
        "print('train MAE: {}'.format(mean_absolute_error(y_train, y_pred_LR_train)))\n",
        "print('test MAE: {}'.format(mean_absolute_error(y_test, y_pred_LR_test)))\n",
        "\n",
        "p = 0\n",
        "for i in range(len(y_pred_LR_test)):\n",
        "  if y_pred_LR_test[i] < 0:\n",
        "    p = p + 1\n",
        "print('number of negative values: {}'.format(p))\n",
        "predTest = pd.DataFrame(y_pred_LR_test, columns = ['predictions'])\n",
        "print(predTest.describe())\n",
        "\n",
        "\n"
      ],
      "execution_count": null,
      "outputs": [
        {
          "output_type": "stream",
          "text": [
            "train MAE: 4.069718617801256\n",
            "test MAE: 3.955130039827295\n",
            "number of negative values: 150\n",
            "       predictions\n",
            "count  1505.000000\n",
            "mean      9.115340\n",
            "std       8.539069\n",
            "min     -13.841334\n",
            "25%       3.388537\n",
            "50%       7.303078\n",
            "75%      13.439207\n",
            "max      37.964785\n"
          ],
          "name": "stdout"
        }
      ]
    },
    {
      "cell_type": "code",
      "metadata": {
        "id": "4gtslejfjVNO",
        "colab": {
          "base_uri": "https://localhost:8080/"
        },
        "outputId": "d670f11f-f1b7-43cd-96fd-1d8091c1130d"
      },
      "source": [
        "## DecisionTreeRegressor\n",
        "## hold-out\n",
        "\n",
        "from sklearn.tree import DecisionTreeRegressor\n",
        "from sklearn.metrics import mean_absolute_error\n",
        "\n",
        "DT_Regressor = DecisionTreeRegressor(max_depth=8, random_state=2)\n",
        "DT_Regressor.fit(X_train, y_train)\n",
        "y_pred_DT_train = DT_Regressor.predict(X_train)\n",
        "y_pred_DT_test = DT_Regressor.predict(X_test)\n",
        "print('train MAE: {}'.format(mean_absolute_error(y_train, y_pred_DT_train)))\n",
        "print('test MAE: {}'.format(mean_absolute_error(y_test, y_pred_DT_test)))\n",
        "\n",
        "pred_DT_Test = pd.DataFrame(y_pred_DT_test, columns = ['predictions'])\n",
        "print(pred_DT_Test.describe())\n",
        "\n",
        "\n"
      ],
      "execution_count": null,
      "outputs": [
        {
          "output_type": "stream",
          "text": [
            "train MAE: 1.6600269141344424\n",
            "test MAE: 2.33476705877225\n",
            "       predictions\n",
            "count  1505.000000\n",
            "mean      9.221824\n",
            "std      10.573216\n",
            "min       1.392389\n",
            "25%       3.496829\n",
            "50%       5.697917\n",
            "75%       9.492031\n",
            "max      97.070000\n"
          ],
          "name": "stdout"
        }
      ]
    },
    {
      "cell_type": "code",
      "metadata": {
        "id": "0Uy_VOUupv6N",
        "colab": {
          "base_uri": "https://localhost:8080/"
        },
        "outputId": "33b287f6-3f7a-488a-b5d8-5dd10e672f55"
      },
      "source": [
        "## 10-fold cross validation\n",
        "\n",
        "from sklearn.model_selection import cross_validate\n",
        "from sklearn.metrics import mean_absolute_error, make_scorer\n",
        "\n",
        "scorer = make_scorer(mean_absolute_error)\n",
        "kfold_DT = cross_validate(estimator = DT_Regressor, X = data.drop(columns=['Price']), y = data['Price'], cv = 10, scoring = scorer, return_train_score=True)\n",
        "\n",
        "print(kfold_DT)\n",
        "print('mean train MAE: {}'.format(kfold_DT['train_score'].mean()))\n",
        "print('mean test MAE: {}'.format(kfold_DT['test_score'].mean()))\n"
      ],
      "execution_count": null,
      "outputs": [
        {
          "output_type": "stream",
          "text": [
            "{'fit_time': array([0.02096057, 0.01630092, 0.01639652, 0.01588869, 0.01585507,\n",
            "       0.01583457, 0.0157702 , 0.01588082, 0.01596975, 0.01595569]), 'score_time': array([0.00142193, 0.00165391, 0.00139713, 0.00140524, 0.00136065,\n",
            "       0.00136566, 0.0013504 , 0.00132823, 0.00136709, 0.0013597 ]), 'test_score': array([2.79866949, 2.40632422, 2.44625681, 2.75174615, 1.96824743,\n",
            "       2.41267541, 2.25866508, 2.25154173, 2.34675558, 2.28152416]), 'train_score': array([1.74788882, 1.72751895, 1.72550677, 1.71784638, 1.77462276,\n",
            "       1.7261215 , 1.74810673, 1.74981089, 1.78105277, 1.5807962 ])}\n",
            "mean train MAE: 1.727927177395788\n",
            "mean test MAE: 2.3922406056048326\n"
          ],
          "name": "stdout"
        }
      ]
    },
    {
      "cell_type": "code",
      "metadata": {
        "colab": {
          "base_uri": "https://localhost:8080/"
        },
        "id": "Oc9Gqo_mxzPS",
        "outputId": "15aadb64-9070-41e1-ac89-99ce886a9a08"
      },
      "source": [
        "## Leave-One-Out Cross-Validation\n",
        "import time\n",
        "\n",
        "start_time = time.time()\n",
        "LOOCV_DT = cross_validate(estimator = DT_Regressor, X = data.drop(columns=['Price']), y = data['Price'], cv = data.shape[0], scoring = scorer, return_train_score=True)\n",
        "print(LOOCV_DT)\n",
        "print('mean train MAE: {}'.format(LOOCV_DT['train_score'].mean()))\n",
        "print('mean test MAE: {}'.format(LOOCV_DT['test_score'].mean()))\n",
        "print(\"--- %s seconds ---\" % (time.time() - start_time))"
      ],
      "execution_count": null,
      "outputs": [
        {
          "output_type": "stream",
          "text": [
            "{'fit_time': array([0.02257419, 0.01864457, 0.01980138, ..., 0.01757669, 0.0174644 ,\n",
            "       0.01776791]), 'score_time': array([0.00187206, 0.00172877, 0.00171542, ..., 0.00130987, 0.00135303,\n",
            "       0.0013206 ]), 'test_score': array([0.77747768, 3.804375  , 0.06024809, ..., 3.4555914 , 0.44050193,\n",
            "       0.59079151]), 'train_score': array([1.74691568, 1.74631801, 1.74700943, ..., 1.74647025, 1.74695486,\n",
            "       1.74693253])}\n",
            "mean train MAE: 1.7468023197407705\n",
            "mean test MAE: 2.382064325928493\n",
            "--- 130.37588453292847 seconds ---\n"
          ],
          "name": "stdout"
        }
      ]
    },
    {
      "cell_type": "code",
      "metadata": {
        "colab": {
          "base_uri": "https://localhost:8080/"
        },
        "id": "bTNZn8V1Ab2y",
        "outputId": "032e00f4-4686-4811-b3a7-89881c846c7b"
      },
      "source": [
        "## RandomForestRegressor\n",
        "## hold-out\n",
        "\n",
        "from sklearn.ensemble import RandomForestRegressor\n",
        "from sklearn.metrics import mean_absolute_error\n",
        "\n",
        "RF_Regressor = RandomForestRegressor(n_estimators=20)\n",
        "RF_Regressor.fit(X_train, y_train)\n",
        "y_pred_RF_train = RF_Regressor.predict(X_train)\n",
        "y_pred_RF_test = RF_Regressor.predict(X_test)\n",
        "print('train MAE: {}'.format(mean_absolute_error(y_train, y_pred_RF_train)))\n",
        "print('test MAE: {}'.format(mean_absolute_error(y_test, y_pred_RF_test)))\n",
        "\n",
        "pred_RF_Test = pd.DataFrame(y_pred_RF_test, columns = ['predictions'])\n",
        "print(pred_RF_Test.describe())\n"
      ],
      "execution_count": null,
      "outputs": [
        {
          "output_type": "stream",
          "text": [
            "train MAE: 0.6271280128489145\n",
            "test MAE: 1.666651079734219\n",
            "       predictions\n",
            "count  1505.000000\n",
            "mean      9.301120\n",
            "std      10.418712\n",
            "min       0.527000\n",
            "25%       3.656000\n",
            "50%       5.595000\n",
            "75%       9.717500\n",
            "max      81.876000\n"
          ],
          "name": "stdout"
        }
      ]
    },
    {
      "cell_type": "code",
      "metadata": {
        "colab": {
          "base_uri": "https://localhost:8080/"
        },
        "id": "NGhbWpvxDU_g",
        "outputId": "877b7bd5-83ed-46b1-a18d-3224c648a7a2"
      },
      "source": [
        "## 10-fold cross validation\n",
        "\n",
        "from sklearn.model_selection import cross_validate\n",
        "from sklearn.metrics import mean_absolute_error, make_scorer\n",
        "\n",
        "scorer = make_scorer(mean_absolute_error)\n",
        "kfold_RF = cross_validate(estimator = RF_Regressor, X = data.drop(columns=['Price']), y = data['Price'], cv = 10, scoring = scorer, return_train_score=True)\n",
        "\n",
        "print(kfold_RF)\n",
        "print('mean train MAE: {}'.format(kfold_RF['train_score'].mean()))\n",
        "print('mean test MAE: {}'.format(kfold_RF['test_score'].mean()))"
      ],
      "execution_count": null,
      "outputs": [
        {
          "output_type": "stream",
          "text": [
            "{'fit_time': array([0.44645762, 0.4317143 , 0.42312765, 0.43220139, 0.41856313,\n",
            "       0.43908262, 0.42538857, 0.45265365, 0.43005633, 0.42491174]), 'score_time': array([0.00736976, 0.00708342, 0.00848579, 0.0073247 , 0.00731087,\n",
            "       0.00730205, 0.00730729, 0.00776601, 0.0073781 , 0.00721622]), 'test_score': array([1.73138199, 1.43100395, 1.56002976, 1.80163858, 1.42783929,\n",
            "       1.55592679, 1.46963815, 1.56048339, 1.56125317, 1.70807725]), 'train_score': array([0.61330351, 0.60148344, 0.60074104, 0.61300716, 0.63862067,\n",
            "       0.62412191, 0.62329777, 0.60792007, 0.61886159, 0.60117645])}\n",
            "mean train MAE: 0.614253359760503\n",
            "mean test MAE: 1.5807272306373312\n"
          ],
          "name": "stdout"
        }
      ]
    },
    {
      "cell_type": "code",
      "metadata": {
        "id": "Wknu8B3tN7sK",
        "colab": {
          "base_uri": "https://localhost:8080/"
        },
        "outputId": "0b6d0c98-70ad-4412-9000-7a8788fd6f4c"
      },
      "source": [
        "## Leave-One-Out Cross-Validation\n",
        "\n",
        "import time\n",
        "\n",
        "start_time = time.time()\n",
        "LOOCV_RF = cross_validate(estimator = RF_Regressor, X = data.drop(columns=['Price']), y = data['Price'], cv = data.shape[0], scoring = scorer, return_train_score=True)\n",
        "print(LOOCV_DT)\n",
        "print('mean train MAE: {}'.format(LOOCV_RF['train_score'].mean()))\n",
        "print('mean test MAE: {}'.format(LOOCV_RF['test_score'].mean()))\n",
        "print(\"--- %s seconds ---\" % (time.time() - start_time))"
      ],
      "execution_count": null,
      "outputs": [
        {
          "output_type": "stream",
          "text": [
            "{'fit_time': array([0.02257419, 0.01864457, 0.01980138, ..., 0.01757669, 0.0174644 ,\n",
            "       0.01776791]), 'score_time': array([0.00187206, 0.00172877, 0.00171542, ..., 0.00130987, 0.00135303,\n",
            "       0.0013206 ]), 'test_score': array([0.77747768, 3.804375  , 0.06024809, ..., 3.4555914 , 0.44050193,\n",
            "       0.59079151]), 'train_score': array([1.74691568, 1.74631801, 1.74700943, ..., 1.74647025, 1.74695486,\n",
            "       1.74693253])}\n",
            "mean train MAE: 0.6004807659003726\n",
            "mean test MAE: 1.5313147639617402\n",
            "--- 3035.656644821167 seconds ---\n"
          ],
          "name": "stdout"
        }
      ]
    }
  ]
}
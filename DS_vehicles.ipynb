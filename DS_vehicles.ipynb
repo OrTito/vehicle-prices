{
  "nbformat": 4,
  "nbformat_minor": 0,
  "metadata": {
    "colab": {
      "name": "DS_vehicles.ipynb",
      "provenance": [],
      "collapsed_sections": [],
      "include_colab_link": true
    },
    "kernelspec": {
      "display_name": "Python 3",
      "name": "python3"
    },
    "language_info": {
      "name": "python"
    }
  },
  "cells": [
    {
      "cell_type": "markdown",
      "metadata": {
        "id": "view-in-github",
        "colab_type": "text"
      },
      "source": [
        "<a href=\"https://colab.research.google.com/github/OrTito/vehicle-prices/blob/main/DS_vehicles.ipynb\" target=\"_parent\"><img src=\"https://colab.research.google.com/assets/colab-badge.svg\" alt=\"Open In Colab\"/></a>"
      ]
    },
    {
      "cell_type": "code",
      "metadata": {
        "id": "AtuUiuMESbEe"
      },
      "source": [
        "import pandas as pd\n",
        "import matplotlib.pyplot as plt\n",
        "import numpy as np\n",
        "import seaborn as sn\n",
        "\n",
        "data = pd.read_csv('train-data.csv')\n",
        "data = data.rename(columns={'Name': 'Company'})\n",
        "data = data.drop(columns=['Unnamed: 0'])\n",
        "data.Company = data.Company.str.split(' ').str[0]\n",
        "data['Mileage'] = data['Mileage'].str.strip(' kmpl km/kg').astype(float)\n",
        "data['Engine'] = data['Engine'].str.strip(' CC').astype(float)\n",
        "data['New_Price'] = data['New_Price'].str.strip(' Cr Lakh').astype(float)\n",
        "data['Power'] = data['Power'].str.strip(' null bhp')\n",
        "data['Power'] = pd.to_numeric(data['Power'])\n",
        "data\n"
      ],
      "execution_count": null,
      "outputs": []
    },
    {
      "cell_type": "code",
      "metadata": {
        "id": "I_f35W-53QN6",
        "colab": {
          "base_uri": "https://localhost:8080/"
        },
        "outputId": "172d024b-e2f0-46dd-9464-3c343778549b"
      },
      "source": [
        "## converting non-numeric to numeric\n",
        "\n",
        "from sklearn import preprocessing\n",
        "\n",
        "le_Transmission = preprocessing.LabelEncoder()\n",
        "data.Transmission = le_Transmission.fit_transform(data.Transmission)\n",
        "keys_Transmission = le_Transmission.classes_\n",
        "values_Transmission = le_Transmission.transform(le_Transmission.classes_)\n",
        "dictionary_Transmission = dict(zip(keys_Transmission, values_Transmission))\n",
        "print(dictionary_Transmission)\n",
        "\n",
        "le_Location = preprocessing.LabelEncoder()\n",
        "data.Location = le_Location.fit_transform(data.Location)\n",
        "keys_Location = le_Location.classes_\n",
        "values_Location = le_Location.transform(le_Location.classes_)\n",
        "dictionary_Location = dict(zip(keys_Location, values_Location))\n",
        "print(dictionary_Location)\n",
        "\n",
        "le_Fuel_Type = preprocessing.LabelEncoder()\n",
        "data.Fuel_Type = le_Fuel_Type.fit_transform(data.Fuel_Type)\n",
        "keys_Fuel_Type = le_Fuel_Type.classes_\n",
        "values_Fuel_Type = le_Fuel_Type.transform(le_Fuel_Type.classes_)\n",
        "dictionary_Fuel_Type = dict(zip(keys_Fuel_Type, values_Fuel_Type))\n",
        "print(dictionary_Fuel_Type)\n",
        "\n",
        "le_Owner_Type = preprocessing.LabelEncoder()\n",
        "data.Owner_Type = le_Owner_Type.fit_transform(data.Owner_Type)\n",
        "keys_Owner_Type = le_Owner_Type.classes_\n",
        "values_Owner_Type = le_Owner_Type.transform(le_Owner_Type.classes_)\n",
        "dictionary_Owner_Type = dict(zip(keys_Owner_Type, values_Owner_Type))\n",
        "print(dictionary_Owner_Type)\n",
        "\n",
        "le_Company = preprocessing.LabelEncoder()\n",
        "data.Company = le_Company.fit_transform(data.Company)\n",
        "keys_Company = le_Company.classes_\n",
        "values_Company = le_Company.transform(le_Company.classes_)\n",
        "dictionary_Company = dict(zip(keys_Company, values_Company))\n",
        "print(dictionary_Company)"
      ],
      "execution_count": 11,
      "outputs": [
        {
          "output_type": "stream",
          "text": [
            "{'Automatic': 0, 'Manual': 1}\n",
            "{'Ahmedabad': 0, 'Bangalore': 1, 'Chennai': 2, 'Coimbatore': 3, 'Delhi': 4, 'Hyderabad': 5, 'Jaipur': 6, 'Kochi': 7, 'Kolkata': 8, 'Mumbai': 9, 'Pune': 10}\n",
            "{'CNG': 0, 'Diesel': 1, 'Electric': 2, 'LPG': 3, 'Petrol': 4}\n",
            "{'First': 0, 'Fourth & Above': 1, 'Second': 2, 'Third': 3}\n",
            "{'Ambassador': 0, 'Audi': 1, 'BMW': 2, 'Bentley': 3, 'Chevrolet': 4, 'Datsun': 5, 'Fiat': 6, 'Force': 7, 'Ford': 8, 'Honda': 9, 'Hyundai': 10, 'Isuzu': 11, 'Jaguar': 12, 'Jeep': 13, 'Lamborghini': 14, 'Land': 15, 'Mahindra': 16, 'Maruti': 17, 'Mercedes-Benz': 18, 'Mini': 19, 'Mitsubishi': 20, 'Nissan': 21, 'Porsche': 22, 'Renault': 23, 'Skoda': 24, 'Smart': 25, 'Tata': 26, 'Toyota': 27, 'Volkswagen': 28, 'Volvo': 29}\n"
          ],
          "name": "stdout"
        }
      ]
    },
    {
      "cell_type": "code",
      "metadata": {
        "id": "hxo0qHk9tPAM"
      },
      "source": [
        "## Removing outliers\n",
        "\n",
        "data.Kilometers_Driven = data.Kilometers_Driven[data.Kilometers_Driven < 150000]\n",
        "data.Mileage = data.Mileage[data.Mileage > 5]\n",
        "data.Engine = data.Engine[data.Engine < 3400]\n",
        "data.Power = data.Power[data.Power < 275]\n",
        "data.Seats = data.Seats[data.Seats >= 2]"
      ],
      "execution_count": 2,
      "outputs": []
    },
    {
      "cell_type": "code",
      "metadata": {
        "id": "bdlMh27IXZaT",
        "colab": {
          "base_uri": "https://localhost:8080/",
          "height": 419
        },
        "outputId": "a1b20fed-59dc-45f8-a957-f04d90b30d20"
      },
      "source": [
        "## Dropping 'New_Price' and filling NaN values\n",
        "\n",
        "data = data.drop(columns=['New_Price'])\n",
        "data.Kilometers_Driven = data.Kilometers_Driven.fillna(data.Kilometers_Driven.median())\n",
        "data.Mileage = data.Mileage.fillna(data.Mileage.median())\n",
        "data.Engine = data.Engine.fillna(data.Engine.median())\n",
        "data.Power = data.Power.fillna(data.Power.median())\n",
        "data.Seats = data.Seats.fillna(data.Seats.median())\n",
        "data"
      ],
      "execution_count": 3,
      "outputs": [
        {
          "output_type": "execute_result",
          "data": {
            "text/html": [
              "<div>\n",
              "<style scoped>\n",
              "    .dataframe tbody tr th:only-of-type {\n",
              "        vertical-align: middle;\n",
              "    }\n",
              "\n",
              "    .dataframe tbody tr th {\n",
              "        vertical-align: top;\n",
              "    }\n",
              "\n",
              "    .dataframe thead th {\n",
              "        text-align: right;\n",
              "    }\n",
              "</style>\n",
              "<table border=\"1\" class=\"dataframe\">\n",
              "  <thead>\n",
              "    <tr style=\"text-align: right;\">\n",
              "      <th></th>\n",
              "      <th>Company</th>\n",
              "      <th>Location</th>\n",
              "      <th>Year</th>\n",
              "      <th>Kilometers_Driven</th>\n",
              "      <th>Fuel_Type</th>\n",
              "      <th>Transmission</th>\n",
              "      <th>Owner_Type</th>\n",
              "      <th>Mileage</th>\n",
              "      <th>Engine</th>\n",
              "      <th>Power</th>\n",
              "      <th>Seats</th>\n",
              "      <th>Price</th>\n",
              "    </tr>\n",
              "  </thead>\n",
              "  <tbody>\n",
              "    <tr>\n",
              "      <th>0</th>\n",
              "      <td>Maruti</td>\n",
              "      <td>Mumbai</td>\n",
              "      <td>2010</td>\n",
              "      <td>72000.0</td>\n",
              "      <td>CNG</td>\n",
              "      <td>Manual</td>\n",
              "      <td>First</td>\n",
              "      <td>26.60</td>\n",
              "      <td>998.0</td>\n",
              "      <td>58.16</td>\n",
              "      <td>5.0</td>\n",
              "      <td>1.75</td>\n",
              "    </tr>\n",
              "    <tr>\n",
              "      <th>1</th>\n",
              "      <td>Hyundai</td>\n",
              "      <td>Pune</td>\n",
              "      <td>2015</td>\n",
              "      <td>41000.0</td>\n",
              "      <td>Diesel</td>\n",
              "      <td>Manual</td>\n",
              "      <td>First</td>\n",
              "      <td>19.67</td>\n",
              "      <td>1582.0</td>\n",
              "      <td>126.20</td>\n",
              "      <td>5.0</td>\n",
              "      <td>12.50</td>\n",
              "    </tr>\n",
              "    <tr>\n",
              "      <th>2</th>\n",
              "      <td>Honda</td>\n",
              "      <td>Chennai</td>\n",
              "      <td>2011</td>\n",
              "      <td>46000.0</td>\n",
              "      <td>Petrol</td>\n",
              "      <td>Manual</td>\n",
              "      <td>First</td>\n",
              "      <td>18.20</td>\n",
              "      <td>1199.0</td>\n",
              "      <td>88.70</td>\n",
              "      <td>5.0</td>\n",
              "      <td>4.50</td>\n",
              "    </tr>\n",
              "    <tr>\n",
              "      <th>3</th>\n",
              "      <td>Maruti</td>\n",
              "      <td>Chennai</td>\n",
              "      <td>2012</td>\n",
              "      <td>87000.0</td>\n",
              "      <td>Diesel</td>\n",
              "      <td>Manual</td>\n",
              "      <td>First</td>\n",
              "      <td>20.77</td>\n",
              "      <td>1248.0</td>\n",
              "      <td>88.76</td>\n",
              "      <td>7.0</td>\n",
              "      <td>6.00</td>\n",
              "    </tr>\n",
              "    <tr>\n",
              "      <th>4</th>\n",
              "      <td>Audi</td>\n",
              "      <td>Coimbatore</td>\n",
              "      <td>2013</td>\n",
              "      <td>40670.0</td>\n",
              "      <td>Diesel</td>\n",
              "      <td>Automatic</td>\n",
              "      <td>Second</td>\n",
              "      <td>15.20</td>\n",
              "      <td>1968.0</td>\n",
              "      <td>140.80</td>\n",
              "      <td>5.0</td>\n",
              "      <td>17.74</td>\n",
              "    </tr>\n",
              "    <tr>\n",
              "      <th>...</th>\n",
              "      <td>...</td>\n",
              "      <td>...</td>\n",
              "      <td>...</td>\n",
              "      <td>...</td>\n",
              "      <td>...</td>\n",
              "      <td>...</td>\n",
              "      <td>...</td>\n",
              "      <td>...</td>\n",
              "      <td>...</td>\n",
              "      <td>...</td>\n",
              "      <td>...</td>\n",
              "      <td>...</td>\n",
              "    </tr>\n",
              "    <tr>\n",
              "      <th>6014</th>\n",
              "      <td>Maruti</td>\n",
              "      <td>Delhi</td>\n",
              "      <td>2014</td>\n",
              "      <td>27365.0</td>\n",
              "      <td>Diesel</td>\n",
              "      <td>Manual</td>\n",
              "      <td>First</td>\n",
              "      <td>28.40</td>\n",
              "      <td>1248.0</td>\n",
              "      <td>74.00</td>\n",
              "      <td>5.0</td>\n",
              "      <td>4.75</td>\n",
              "    </tr>\n",
              "    <tr>\n",
              "      <th>6015</th>\n",
              "      <td>Hyundai</td>\n",
              "      <td>Jaipur</td>\n",
              "      <td>2015</td>\n",
              "      <td>100000.0</td>\n",
              "      <td>Diesel</td>\n",
              "      <td>Manual</td>\n",
              "      <td>First</td>\n",
              "      <td>24.40</td>\n",
              "      <td>1120.0</td>\n",
              "      <td>71.00</td>\n",
              "      <td>5.0</td>\n",
              "      <td>4.00</td>\n",
              "    </tr>\n",
              "    <tr>\n",
              "      <th>6016</th>\n",
              "      <td>Mahindra</td>\n",
              "      <td>Jaipur</td>\n",
              "      <td>2012</td>\n",
              "      <td>55000.0</td>\n",
              "      <td>Diesel</td>\n",
              "      <td>Manual</td>\n",
              "      <td>Second</td>\n",
              "      <td>14.00</td>\n",
              "      <td>2498.0</td>\n",
              "      <td>112.00</td>\n",
              "      <td>8.0</td>\n",
              "      <td>2.90</td>\n",
              "    </tr>\n",
              "    <tr>\n",
              "      <th>6017</th>\n",
              "      <td>Maruti</td>\n",
              "      <td>Kolkata</td>\n",
              "      <td>2013</td>\n",
              "      <td>46000.0</td>\n",
              "      <td>Petrol</td>\n",
              "      <td>Manual</td>\n",
              "      <td>First</td>\n",
              "      <td>18.90</td>\n",
              "      <td>998.0</td>\n",
              "      <td>67.10</td>\n",
              "      <td>5.0</td>\n",
              "      <td>2.65</td>\n",
              "    </tr>\n",
              "    <tr>\n",
              "      <th>6018</th>\n",
              "      <td>Chevrolet</td>\n",
              "      <td>Hyderabad</td>\n",
              "      <td>2011</td>\n",
              "      <td>47000.0</td>\n",
              "      <td>Diesel</td>\n",
              "      <td>Manual</td>\n",
              "      <td>First</td>\n",
              "      <td>25.44</td>\n",
              "      <td>936.0</td>\n",
              "      <td>57.60</td>\n",
              "      <td>5.0</td>\n",
              "      <td>2.50</td>\n",
              "    </tr>\n",
              "  </tbody>\n",
              "</table>\n",
              "<p>6019 rows × 12 columns</p>\n",
              "</div>"
            ],
            "text/plain": [
              "        Company    Location  Year  ...   Power Seats  Price\n",
              "0        Maruti      Mumbai  2010  ...   58.16   5.0   1.75\n",
              "1       Hyundai        Pune  2015  ...  126.20   5.0  12.50\n",
              "2         Honda     Chennai  2011  ...   88.70   5.0   4.50\n",
              "3        Maruti     Chennai  2012  ...   88.76   7.0   6.00\n",
              "4          Audi  Coimbatore  2013  ...  140.80   5.0  17.74\n",
              "...         ...         ...   ...  ...     ...   ...    ...\n",
              "6014     Maruti       Delhi  2014  ...   74.00   5.0   4.75\n",
              "6015    Hyundai      Jaipur  2015  ...   71.00   5.0   4.00\n",
              "6016   Mahindra      Jaipur  2012  ...  112.00   8.0   2.90\n",
              "6017     Maruti     Kolkata  2013  ...   67.10   5.0   2.65\n",
              "6018  Chevrolet   Hyderabad  2011  ...   57.60   5.0   2.50\n",
              "\n",
              "[6019 rows x 12 columns]"
            ]
          },
          "metadata": {
            "tags": []
          },
          "execution_count": 3
        }
      ]
    },
    {
      "cell_type": "code",
      "metadata": {
        "id": "4EKDFkP6J9PA"
      },
      "source": [
        "## Company graphs\n",
        "\n",
        "P_Company = data['Company'].isnull().sum() / len(data['Company'])\n",
        "labels_Company = 'Missing values', 'Values'\n",
        "sizes_Company = [P_Company * 100, (1-P_Company) * 100]\n",
        "explode_Company = (0.25, 0)\n",
        "fig_Company, ax_Company = plt.subplots()\n",
        "ax_Company.pie(sizes_Company, explode=explode_Company, labels=labels_Company, autopct='%1.2f%%',\n",
        "        shadow=True, startangle=90)\n",
        "ax_Company.axis('equal')\n",
        "plt.show()\n",
        "\n",
        "data['Company'].value_counts().plot.pie()\n",
        "plt.show()\n",
        "\n",
        "plt.xlabel('Company Number')\n",
        "plt.ylabel('publications ')\n",
        "plt.title('Company')\n",
        "plt.hist(data['Company'],bins=(50))\n",
        "plt.show()\n",
        "\n",
        "print(data['Company'].value_counts())"
      ],
      "execution_count": null,
      "outputs": []
    },
    {
      "cell_type": "code",
      "metadata": {
        "id": "Y6c7gh9hJTzf"
      },
      "source": [
        "## Location graphs\n",
        "\n",
        "P_Location = data['Location'].isnull().sum() / len(data['Location'])\n",
        "labels_Location = 'Missing values', 'Values'\n",
        "sizes_Location = [P_Location * 100, (1-P_Location) * 100]\n",
        "explode_Location = (0.25, 0)\n",
        "fig_Location, ax_Location = plt.subplots()\n",
        "ax_Location.pie(sizes_Location, explode=explode_Location, labels=labels_Location, autopct='%1.2f%%',\n",
        "        shadow=True, startangle=90)\n",
        "ax_Location.axis('equal')\n",
        "plt.show()\n",
        "\n",
        "data['Location'].value_counts().plot.pie()\n",
        "plt.show()\n",
        "\n",
        "plt.xlabel('Location Number')\n",
        "plt.ylabel('publications ')\n",
        "plt.title('Location')\n",
        "plt.hist(data['Location'],bins=(50))\n",
        "plt.show()\n",
        "\n",
        "print(data['Location'].value_counts())"
      ],
      "execution_count": null,
      "outputs": []
    },
    {
      "cell_type": "code",
      "metadata": {
        "id": "H8kZVec_Ub2D"
      },
      "source": [
        "## Year graphs\n",
        "\n",
        "P_Year = data['Year'].isnull().sum() / len(data['Year'])\n",
        "labels_Year = 'Missing values', 'Values'\n",
        "sizes_Year = [P_Year * 100, (1-P_Year) * 100]\n",
        "explode_Year = (0.25, 0)\n",
        "fig_Year, ax_Year = plt.subplots()\n",
        "ax_Year.pie(sizes_Year, explode=explode_Year, labels=labels_Year, autopct='%1.2f%%',\n",
        "        shadow=True, startangle=90)\n",
        "ax_Year.axis('equal')\n",
        "plt.show()\n",
        "\n",
        "plt.xlabel('year')\n",
        "plt.ylabel('publications ')\n",
        "plt.title('Year')\n",
        "plt.hist(data['Year'],bins=(50))\n",
        "plt.show()\n",
        "\n",
        "pd.DataFrame(data['Year']).boxplot()\n",
        "plt.show()\n",
        "print(data['Year'].describe())"
      ],
      "execution_count": null,
      "outputs": []
    },
    {
      "cell_type": "code",
      "metadata": {
        "id": "PR7xrldgT6fd"
      },
      "source": [
        "## Kilometers_Driven graphs\n",
        "\n",
        "P_Kilometers_Driven = data['Kilometers_Driven'].isnull().sum() / len(data['Kilometers_Driven'])\n",
        "labels_Kilometers_Driven = 'Missing values', 'Values'\n",
        "sizes_Kilometers_Driven = [P_Kilometers_Driven * 100, (1-P_Kilometers_Driven) * 100]\n",
        "explode_Kilometers_Driven = (0.5, 0)\n",
        "fig_Kilometers_Driven, ax_Kilometers_Driven = plt.subplots()\n",
        "ax_Kilometers_Driven.pie(sizes_Kilometers_Driven, explode=explode_Kilometers_Driven, labels=labels_Kilometers_Driven, autopct='%1.2f%%',\n",
        "        shadow=True, startangle=90)\n",
        "ax_Kilometers_Driven.axis('equal')\n",
        "plt.show()\n",
        "\n",
        "plt.xlabel('Kilometers driven [km]')\n",
        "plt.ylabel('publications')\n",
        "plt.title('Kilometers_Driven')\n",
        "plt.hist(data['Kilometers_Driven'],bins=50)\n",
        "plt.show()\n",
        "\n",
        "pd.DataFrame(data['Kilometers_Driven']).boxplot()\n",
        "plt.show()\n",
        "print(data['Kilometers_Driven'].describe())"
      ],
      "execution_count": null,
      "outputs": []
    },
    {
      "cell_type": "code",
      "metadata": {
        "id": "_0klI8p7HULE"
      },
      "source": [
        "## Fuel_Type graphs\n",
        "\n",
        "P_Fuel_Type = data['Fuel_Type'].isnull().sum() / len(data['Fuel_Type'])\n",
        "labels_Fuel_Type = 'Missing values', 'Values'\n",
        "sizes_Fuel_Type = [P_Fuel_Type * 100, (1-P_Fuel_Type) * 100]\n",
        "explode_Fuel_Type = (0.25, 0)\n",
        "fig_Fuel_Type, ax_Fuel_Type = plt.subplots()\n",
        "ax_Fuel_Type.pie(sizes_Fuel_Type, explode=explode_Fuel_Type, labels=labels_Fuel_Type, autopct='%1.2f%%',\n",
        "        shadow=True, startangle=90)\n",
        "ax_Fuel_Type.axis('equal')\n",
        "plt.show()\n",
        "\n",
        "data['Fuel_Type'].value_counts().plot.pie()\n",
        "plt.show()\n",
        "\n",
        "plt.xlabel('Fuel_Type Number')\n",
        "plt.ylabel('publications ')\n",
        "plt.title('Fuel_Type')\n",
        "plt.hist(data['Fuel_Type'],bins=(50))\n",
        "plt.show()\n",
        "\n",
        "print(data['Fuel_Type'].value_counts())"
      ],
      "execution_count": null,
      "outputs": []
    },
    {
      "cell_type": "code",
      "metadata": {
        "id": "tSyYahTZD0VQ"
      },
      "source": [
        "## Transmission graphs\n",
        "\n",
        "P_Transmission = data['Transmission'].isnull().sum() / len(data['Transmission'])\n",
        "labels_Transmission = 'Missing values', 'Values'\n",
        "sizes_Transmission = [P_Transmission * 100, (1-P_Transmission) * 100]\n",
        "explode_Transmission = (0.25, 0)\n",
        "fig_Transmission, ax_Transmission = plt.subplots()\n",
        "ax_Transmission.pie(sizes_Transmission, explode=explode_Transmission, labels=labels_Transmission, autopct='%1.2f%%',\n",
        "        shadow=True, startangle=90)\n",
        "ax_Transmission.axis('equal')\n",
        "plt.show()\n",
        "\n",
        "data['Transmission'].value_counts().plot.pie()\n",
        "plt.show()\n",
        "\n",
        "plt.xlabel('Transmission Number')\n",
        "plt.ylabel('publications ')\n",
        "plt.title('Transmission')\n",
        "plt.hist(data['Transmission'],bins=(50))\n",
        "plt.show()\n",
        "\n",
        "print(data['Transmission'].value_counts())"
      ],
      "execution_count": null,
      "outputs": []
    },
    {
      "cell_type": "code",
      "metadata": {
        "id": "huRVhqYBLHAn"
      },
      "source": [
        "## Owner_Type graphs\n",
        "\n",
        "P_Owner_Type = data['Owner_Type'].isnull().sum() / len(data['Owner_Type'])\n",
        "labels_Owner_Type = 'Missing values', 'Values'\n",
        "sizes_Owner_Type = [P_Owner_Type * 100, (1-P_Owner_Type) * 100]\n",
        "explode_Owner_Type = (0.25, 0)\n",
        "fig_Owner_Type, ax_Owner_Type = plt.subplots()\n",
        "ax_Owner_Type.pie(sizes_Owner_Type, explode=explode_Owner_Type, labels=labels_Owner_Type, autopct='%1.2f%%',\n",
        "        shadow=True, startangle=90)\n",
        "ax_Owner_Type.axis('equal')\n",
        "plt.show()\n",
        "\n",
        "data['Owner_Type'].value_counts().plot.pie()\n",
        "plt.show()\n",
        "\n",
        "plt.xlabel('Owner_Type Number')\n",
        "plt.ylabel('publications ')\n",
        "plt.title('Owner_Type')\n",
        "plt.hist(data['Owner_Type'],bins=(50))\n",
        "plt.show()\n",
        "\n",
        "print(data['Owner_Type'].value_counts())"
      ],
      "execution_count": null,
      "outputs": []
    },
    {
      "cell_type": "code",
      "metadata": {
        "id": "FpMAswB0zTWj"
      },
      "source": [
        "## Mileage graphs\n",
        "\n",
        "P_Mileage = data['Mileage'].isnull().sum() / len(data['Mileage'])\n",
        "labels_Mileage = 'Missing values', 'Values'\n",
        "sizes_Mileage = [P_Mileage * 100, (1-P_Mileage) * 100]\n",
        "explode_Mileage = (0.25, 0)\n",
        "fig_Mileage, ax_Mileage = plt.subplots()\n",
        "ax_Mileage.pie(sizes_Mileage, explode=explode_Mileage, labels=labels_Mileage, autopct='%1.2f%%',\n",
        "        shadow=True, startangle=90)\n",
        "ax_Mileage.axis('equal')\n",
        "plt.show()\n",
        "\n",
        "plt.xlabel('mileage [kmpl]')\n",
        "plt.ylabel('publications')\n",
        "plt.title('Mileage')\n",
        "plt.hist(data['Mileage'],bins=50)\n",
        "plt.show()\n",
        "\n",
        "pd.DataFrame(data['Mileage']).boxplot()\n",
        "plt.show()\n",
        "print(data['Mileage'].describe())"
      ],
      "execution_count": null,
      "outputs": []
    },
    {
      "cell_type": "code",
      "metadata": {
        "id": "EFXM8F3LhREa"
      },
      "source": [
        "## Engine graphs\n",
        "\n",
        "P_Engine = data['Engine'].isnull().sum() / len(data['Engine'])\n",
        "labels_Engine = 'Missing values', 'Values'\n",
        "sizes_Engine = [P_Engine * 100, (1-P_Engine) * 100]\n",
        "explode_Engine = (0.5, 0)\n",
        "fig_Engine, ax_Engine = plt.subplots()\n",
        "ax_Engine.pie(sizes_Engine, explode=explode_Engine, labels=labels_Engine, autopct='%1.2f%%',\n",
        "        shadow=True, startangle=90)\n",
        "ax_Engine.axis('equal')\n",
        "plt.show()\n",
        "\n",
        "plt.xlabel('engine [CC]')\n",
        "plt.ylabel('publications')\n",
        "plt.title('Engine')\n",
        "plt.hist(data['Engine'],bins=50)\n",
        "plt.show()\n",
        "\n",
        "pd.DataFrame(data['Engine']).boxplot()\n",
        "plt.show()\n",
        "print(data['Engine'].describe())"
      ],
      "execution_count": null,
      "outputs": []
    },
    {
      "cell_type": "code",
      "metadata": {
        "id": "KwOnV1LC5xMA"
      },
      "source": [
        "## Power graphs\n",
        "\n",
        "P_Power = data['Power'].isnull().sum() / len(data['Power'])\n",
        "labels_Power = 'Missing values', 'Values'\n",
        "sizes_Power = [P_Power * 100, (1-P_Power) * 100]\n",
        "explode_Power = (0.5, 0)\n",
        "fig_Power, ax_Power = plt.subplots()\n",
        "ax_Power.pie(sizes_Power, explode=explode_Power, labels=labels_Power, autopct='%1.2f%%',\n",
        "        shadow=True, startangle=90)\n",
        "ax_Power.axis('equal')\n",
        "plt.show()\n",
        "\n",
        "plt.xlabel('power [bhp]')\n",
        "plt.ylabel('publications')\n",
        "plt.title('Power')\n",
        "plt.hist(data['Power'],bins=100)\n",
        "plt.show()\n",
        "\n",
        "pd.DataFrame(data['Power']).boxplot()\n",
        "plt.show()\n",
        "print(data['Power'].describe())"
      ],
      "execution_count": null,
      "outputs": []
    },
    {
      "cell_type": "code",
      "metadata": {
        "id": "V1-GmaLpUpTb"
      },
      "source": [
        "## Seats graphs\n",
        "\n",
        "P_Seats = data['Seats'].isnull().sum() / len(data['Seats'])\n",
        "labels_Seats = 'Missing values', 'Values'\n",
        "sizes_Seats = [P_Seats * 100, (1-P_Seats) * 100]\n",
        "explode_Seats = (0.5, 0)\n",
        "fig_Seats, ax_Seats = plt.subplots()\n",
        "ax_Seats.pie(sizes_Seats, explode=explode_Seats, labels=labels_Seats, autopct='%1.2f%%',\n",
        "        shadow=True, startangle=90)\n",
        "ax_Seats.axis('equal')\n",
        "plt.show()\n",
        "\n",
        "plt.xlabel('seats')\n",
        "plt.ylabel('publications')\n",
        "plt.title('Seats')\n",
        "plt.hist(data['Seats'],bins=(50))\n",
        "plt.show()\n",
        "\n",
        "pd.DataFrame(data['Seats']).boxplot()\n",
        "plt.show()\n",
        "print(data['Seats'].describe())"
      ],
      "execution_count": null,
      "outputs": []
    },
    {
      "cell_type": "code",
      "metadata": {
        "id": "WqF0lVo20fB6"
      },
      "source": [
        "## New_Price graphs\n",
        "\n",
        "P_New_Price = data['New_Price'].isnull().sum() / len(data['New_Price'])\n",
        "labels_New_Price = 'Missing values', 'Values'\n",
        "sizes_New_Price = [P_New_Price * 100, (1-P_New_Price) * 100]\n",
        "explode_New_Price = (0.25, 0)\n",
        "fig_New_Price, ax_New_Price = plt.subplots()\n",
        "ax_New_Price.pie(sizes_New_Price, explode=explode_New_Price, labels=labels_New_Price, autopct='%1.2f%%',\n",
        "        shadow=True, startangle=90)\n",
        "ax_New_Price.axis('equal')\n",
        "plt.show()\n",
        "\n",
        "plt.xlabel('new price [k$]')\n",
        "plt.ylabel('publications')\n",
        "plt.title('New_Price')\n",
        "plt.hist(data['New_Price'],bins=50)\n",
        "plt.show()\n",
        "\n",
        "pd.DataFrame(data['New_Price']).boxplot()\n",
        "plt.show()"
      ],
      "execution_count": null,
      "outputs": []
    },
    {
      "cell_type": "code",
      "metadata": {
        "id": "ns4_2RaZVTnE"
      },
      "source": [
        "## Price graphs\n",
        "\n",
        "P_Price = data['Price'].isnull().sum() / len(data['Price'])\n",
        "labels_Price = 'Missing values', 'Values'\n",
        "sizes_Price = [P_Price * 100, (1-P_Price) * 100]\n",
        "explode_Price = (0.25, 0)\n",
        "fig_Price, ax_Price = plt.subplots()\n",
        "ax_Price.pie(sizes_Price, explode=explode_Price, labels=labels_Price, autopct='%1.2f%%',\n",
        "        shadow=True, startangle=90)\n",
        "ax_Price.axis('equal')\n",
        "plt.show()\n",
        "\n",
        "plt.xlabel('price [k$]')\n",
        "plt.ylabel('publications')\n",
        "plt.title('Price')\n",
        "plt.hist(data['Price'],bins=50)\n",
        "plt.show()\n",
        "\n",
        "pd.DataFrame(data['Price']).boxplot()\n",
        "plt.show()\n",
        "print(data['Price'].describe())"
      ],
      "execution_count": null,
      "outputs": []
    },
    {
      "cell_type": "code",
      "metadata": {
        "id": "UYXPVDXcpf5Y"
      },
      "source": [
        "## Correlation Matrix\n",
        "\n",
        "Corr = data.corr()\n",
        "sn.heatmap(Corr, annot=True)\n",
        "plt.xticks(rotation=55)\n",
        "plt.show()"
      ],
      "execution_count": null,
      "outputs": []
    },
    {
      "cell_type": "code",
      "metadata": {
        "id": "wDRZfFcBFEmM"
      },
      "source": [
        "## Correlation Matrix for non-numeric\n",
        "\n",
        "NonNum = pd.concat([data['Company'], data['Location'], data['Fuel_Type'] , data['Owner_Type'], data['Transmission'], data['Price']], axis=1)\n",
        "print(NonNum)\n",
        "CorrNonNum = NonNum.corr()\n",
        "sn.heatmap(CorrNonNum, annot=True)\n",
        "plt.xticks(rotation=55)\n",
        "plt.show()\n",
        "\n"
      ],
      "execution_count": null,
      "outputs": []
    },
    {
      "cell_type": "code",
      "metadata": {
        "id": "GIlGunN3UBu8"
      },
      "source": [
        "## Splitting the data into train set and test set\n",
        "\n",
        "from sklearn.model_selection import train_test_split\n",
        "X, y = data.drop('Price', axis=1), data.Price\n",
        "train_test_ratio = 0.25\n",
        "X_train, X_test, y_train, y_test = train_test_split(X, y, test_size=train_test_ratio, random_state=2, shuffle=True)\n",
        "X_train.shape, y_train.shape, X_test.shape, y_test.shape"
      ],
      "execution_count": null,
      "outputs": []
    },
    {
      "cell_type": "code",
      "metadata": {
        "id": "XkaB9MT8kygg"
      },
      "source": [
        "## LinearRegression\n",
        "\n",
        "from sklearn.linear_model import LinearRegression\n",
        "from sklearn.metrics import mean_absolute_error\n",
        "\n",
        "LR_Regressor = LinearRegression()\n",
        "LR_Regressor.fit(X_train, y_train)\n",
        "y_pred_LR_train = LR_Regressor.predict(X_train)\n",
        "y_pred_LR_test = LR_Regressor.predict(X_test)\n",
        "print('train MAE: {}'.format(mean_absolute_error(y_train, y_pred_LR_train)))\n",
        "print('test MAE: {}'.format(mean_absolute_error(y_test, y_pred_LR_test)))\n",
        "\n",
        "p = 0\n",
        "for i in range(len(y_pred_LR_test)):\n",
        "  if y_pred_LR_test[i] < 0:\n",
        "    p = p + 1\n",
        "print('number of negative values: {}'.format(p))\n",
        "predTest = pd.DataFrame(y_pred_LR_test, columns = ['predictions'])\n",
        "print(predTest.describe())\n",
        "\n",
        "\n"
      ],
      "execution_count": null,
      "outputs": []
    },
    {
      "cell_type": "code",
      "metadata": {
        "id": "4gtslejfjVNO"
      },
      "source": [
        "## DecisionTreeRegressor\n",
        "## hold-out\n",
        "\n",
        "from sklearn.tree import DecisionTreeRegressor\n",
        "from sklearn.metrics import mean_absolute_error\n",
        "\n",
        "DT_Regressor = DecisionTreeRegressor(max_depth=8, random_state=2)\n",
        "DT_Regressor.fit(X_train, y_train)\n",
        "y_pred_DT_train = DT_Regressor.predict(X_train)\n",
        "y_pred_DT_test = DT_Regressor.predict(X_test)\n",
        "print('train MAE: {}'.format(mean_absolute_error(y_train, y_pred_DT_train)))\n",
        "print('test MAE: {}'.format(mean_absolute_error(y_test, y_pred_DT_test)))\n",
        "\n",
        "pred_DT_Test = pd.DataFrame(y_pred_DT_test, columns = ['predictions'])\n",
        "print(pred_DT_Test.describe())\n",
        "\n",
        "\n"
      ],
      "execution_count": null,
      "outputs": []
    },
    {
      "cell_type": "code",
      "metadata": {
        "id": "0Uy_VOUupv6N"
      },
      "source": [
        "## 10-fold cross validation\n",
        "\n",
        "from sklearn.model_selection import cross_validate\n",
        "from sklearn.metrics import mean_absolute_error, make_scorer\n",
        "\n",
        "scorer = make_scorer(mean_absolute_error)\n",
        "kfold_DT = cross_validate(estimator = DT_Regressor, X = data.drop(columns=['Price']), y = data['Price'], cv = 10, scoring = scorer, return_train_score=True)\n",
        "\n",
        "print(kfold_DT)\n",
        "print('mean train MAE: {}'.format(kfold_DT['train_score'].mean()))\n",
        "print('mean test MAE: {}'.format(kfold_DT['test_score'].mean()))\n"
      ],
      "execution_count": null,
      "outputs": []
    },
    {
      "cell_type": "code",
      "metadata": {
        "id": "Oc9Gqo_mxzPS"
      },
      "source": [
        "## Leave-One-Out Cross-Validation\n",
        "import time\n",
        "\n",
        "start_time = time.time()\n",
        "LOOCV_DT = cross_validate(estimator = DT_Regressor, X = data.drop(columns=['Price']), y = data['Price'], cv = data.shape[0], scoring = scorer, return_train_score=True)\n",
        "print(LOOCV_DT)\n",
        "print('mean train MAE: {}'.format(LOOCV_DT['train_score'].mean()))\n",
        "print('mean test MAE: {}'.format(LOOCV_DT['test_score'].mean()))\n",
        "print(\"--- %s seconds ---\" % (time.time() - start_time))"
      ],
      "execution_count": null,
      "outputs": []
    },
    {
      "cell_type": "code",
      "metadata": {
        "id": "bTNZn8V1Ab2y"
      },
      "source": [
        "## RandomForestRegressor\n",
        "## hold-out\n",
        "\n",
        "from sklearn.ensemble import RandomForestRegressor\n",
        "from sklearn.metrics import mean_absolute_error\n",
        "\n",
        "RF_Regressor = RandomForestRegressor(n_estimators=20)\n",
        "RF_Regressor.fit(X_train, y_train)\n",
        "y_pred_RF_train = RF_Regressor.predict(X_train)\n",
        "y_pred_RF_test = RF_Regressor.predict(X_test)\n",
        "print('train MAE: {}'.format(mean_absolute_error(y_train, y_pred_RF_train)))\n",
        "print('test MAE: {}'.format(mean_absolute_error(y_test, y_pred_RF_test)))\n",
        "\n",
        "pred_RF_Test = pd.DataFrame(y_pred_RF_test, columns = ['predictions'])\n",
        "print(pred_RF_Test.describe())\n"
      ],
      "execution_count": null,
      "outputs": []
    },
    {
      "cell_type": "code",
      "metadata": {
        "id": "NGhbWpvxDU_g"
      },
      "source": [
        "## 10-fold cross validation\n",
        "\n",
        "from sklearn.model_selection import cross_validate\n",
        "from sklearn.metrics import mean_absolute_error, make_scorer\n",
        "\n",
        "scorer = make_scorer(mean_absolute_error)\n",
        "kfold_RF = cross_validate(estimator = RF_Regressor, X = data.drop(columns=['Price']), y = data['Price'], cv = 10, scoring = scorer, return_train_score=True)\n",
        "\n",
        "print(kfold_RF)\n",
        "print('mean train MAE: {}'.format(kfold_RF['train_score'].mean()))\n",
        "print('mean test MAE: {}'.format(kfold_RF['test_score'].mean()))"
      ],
      "execution_count": null,
      "outputs": []
    },
    {
      "cell_type": "code",
      "metadata": {
        "id": "Wknu8B3tN7sK",
        "colab": {
          "base_uri": "https://localhost:8080/"
        },
        "outputId": "0b6d0c98-70ad-4412-9000-7a8788fd6f4c"
      },
      "source": [
        "## Leave-One-Out Cross-Validation\n",
        "\n",
        "import time\n",
        "\n",
        "start_time = time.time()\n",
        "LOOCV_RF = cross_validate(estimator = RF_Regressor, X = data.drop(columns=['Price']), y = data['Price'], cv = data.shape[0], scoring = scorer, return_train_score=True)\n",
        "print(LOOCV_DT)\n",
        "print('mean train MAE: {}'.format(LOOCV_RF['train_score'].mean()))\n",
        "print('mean test MAE: {}'.format(LOOCV_RF['test_score'].mean()))\n",
        "print(\"--- %s seconds ---\" % (time.time() - start_time))"
      ],
      "execution_count": null,
      "outputs": [
        {
          "output_type": "stream",
          "text": [
            "{'fit_time': array([0.02257419, 0.01864457, 0.01980138, ..., 0.01757669, 0.0174644 ,\n",
            "       0.01776791]), 'score_time': array([0.00187206, 0.00172877, 0.00171542, ..., 0.00130987, 0.00135303,\n",
            "       0.0013206 ]), 'test_score': array([0.77747768, 3.804375  , 0.06024809, ..., 3.4555914 , 0.44050193,\n",
            "       0.59079151]), 'train_score': array([1.74691568, 1.74631801, 1.74700943, ..., 1.74647025, 1.74695486,\n",
            "       1.74693253])}\n",
            "mean train MAE: 0.6004807659003726\n",
            "mean test MAE: 1.5313147639617402\n",
            "--- 3035.656644821167 seconds ---\n"
          ],
          "name": "stdout"
        }
      ]
    }
  ]
}